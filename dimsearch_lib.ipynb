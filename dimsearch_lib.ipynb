{
 "cells": [
  {
   "cell_type": "code",
   "execution_count": 11,
   "metadata": {},
   "outputs": [],
   "source": [
    "import pandas as pd\n",
    "import numpy as np\n",
    "\n",
    "class textdimsearch():\n",
    "    \"\"\"\n",
    "    class is aimed to find sizes in a text, namely, numerical value and dimensions\n",
    "    for example '5 мм'\n",
    "    \"\"\"\n",
    "    def __init__(self, model, color, company, speed_limit):\n",
    "        self.color = color\n",
    "        self.company = company\n",
    "        self.speed_limit = speed_limit\n",
    "        self.model = model\n",
    "\n",
    "    def start(self):\n",
    "        print(\"started\")"
   ]
  },
  {
   "cell_type": "code",
   "execution_count": null,
   "metadata": {},
   "outputs": [],
   "source": [
    "# предобработка указаний на размеры\n",
    "def dimension_transform(pattern):\n",
    "    unit =  re.findall(units_ref, str(subpat))[0]\n",
    "    floats =  re.findall(float_reg, str(subpat))\n",
    "    #read pattern\n",
    "    if unit in ['миллиметров','мм']:\n",
    "        dimens_without_x = ' '.join([re.sub('\\.', ',', str(num)) + ' ' + unit for num in floats])\n",
    "    elif unit in ['сантиметров','см','санти']:\n",
    "        dimens_without_x = ' '.join([re.sub('\\.', ',', str(10*float(re.sub(',','.',num)))) + ' мм' for num in floats])\n",
    "    return ' ' + dimens_without_x + ' '\n",
    "\n",
    "# работаем с размерами находок\n",
    "#searching and unification of dimensions\n",
    "float_reg = r'\\d+[,.]?\\d*'\n",
    "units_ref = r'(?:миллиметров|сантиметров|см|мм|санти)'\n",
    "reg_val_x_val_x_val_dim = fr'{float_reg}?\\s*{units_ref}?\\s*[хХxX\\-]?\\s*{float_reg}?\\s*{units_ref}?\\s*[хХxX\\-]?\\s*{float_reg}\\s*{units_ref}'\n",
    "#'3 х 2 x 5 мм' '3 -2 - 5 мм' '7 4 мм' '5мм x 50мм' '5-20 мм' '199 см'\n",
    "\n",
    "reg_from_val_to_val_dim = fr'от\\s*{float_reg}\\s*{units_ref}?\\s*до\\s*{float_reg}\\s*{units_ref}'\n",
    "#от 5 до 6 мм\n",
    "reg_val_x_val = fr'{float_reg}\\s*н?а?[хХxXи\\-]?\\s*{float_reg}\\s*{units_ref}'\n",
    "#6x4 мм  4-5см 5 и 3 мм\n",
    "# 20 на 40 см\n",
    "reg_val_dim = fr'{float_reg}\\s*{units_ref}' \n",
    "#4 см\n",
    "dim_list = []\n",
    "reg = reg_val_x_val_x_val_dim\n",
    "\n",
    "for col in [descr_name, concl_name]:\n",
    "    for ind, txt in enumerate(df[col + new_tag]):#descr_name\n",
    "        index = int(df.index[ind:ind+1][0])\n",
    "        for regex_dim in [reg_val_x_val_x_val_dim, reg_val_x_val, reg_from_val_to_val_dim, reg_val_dim]:\n",
    "            reg_dim = regex_dim\n",
    "            pattern = re.findall(reg_dim, str(txt).lower())\n",
    "            if len(pattern) > 0:\n",
    "    #             print(pattern)\n",
    "    #             print(str(txt))\n",
    "                for subpat in pattern:\n",
    "                    if reg_dim == reg_val_dim:\n",
    "    #                     print(dimension_transform(subpat), '===')\n",
    "                        dim_list.append(dimension_transform(subpat)[:-4])\n",
    "                    dimens_without_x = dimension_transform(subpat)\n",
    "    #                 print(subpat, dimens_without_x)\n",
    "    #                 print(txt)\n",
    "                    txt = re.sub(subpat, dimens_without_x, txt)\n",
    "        df.at[index, col + new_tag] = txt"
   ]
  }
 ],
 "metadata": {
  "kernelspec": {
   "display_name": "Python 3",
   "language": "python",
   "name": "python3"
  },
  "language_info": {
   "codemirror_mode": {
    "name": "ipython",
    "version": 3
   },
   "file_extension": ".py",
   "mimetype": "text/x-python",
   "name": "python",
   "nbconvert_exporter": "python",
   "pygments_lexer": "ipython3",
   "version": "3.8.5"
  }
 },
 "nbformat": 4,
 "nbformat_minor": 4
}
